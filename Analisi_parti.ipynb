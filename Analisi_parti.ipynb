{
 "cells": [
  {
   "cell_type": "code",
   "execution_count": 3,
   "metadata": {},
   "outputs": [],
   "source": [
    "from pandas import DataFrame\n",
    "import pandas as pd\n",
    "import plotly.express as px\n",
    "import ipywidgets as widgets\n",
    "from __future__ import print_function\n",
    "from ipywidgets import interact, interactive, fixed, interact_manual"
   ]
  },
  {
   "cell_type": "markdown",
   "metadata": {},
   "source": [
    "Estrarre i dati dal foglio Excel: IL nome dell'eserczio è sulla 4 riga, e i ati sono nelle colonne da E a AZ"
   ]
  },
  {
   "cell_type": "code",
   "execution_count": 4,
   "metadata": {},
   "outputs": [],
   "source": [
    "df= pd.read_excel('data/FF-MPT-MATE-EF-2020.xlsx',header=4,usecols=\"E:AZ\")"
   ]
  },
  {
   "cell_type": "markdown",
   "metadata": {},
   "source": [
    "Eliminare righe e colonne con NaN (senza dati): I dati cominciano alla riga 1 (la riga 0 contiene i punti totali dell'esercizio)"
   ]
  },
  {
   "cell_type": "code",
   "execution_count": 37,
   "metadata": {},
   "outputs": [],
   "source": [
    "df=df.dropna() #Eliminare righe e colonne vuote (Nan)\n",
    "punti=df.iloc[1:, :] #DataFrame punti: punti degli allievi, la riga 0 contiene il punteggio totale dell'esercizio\n",
    "\n",
    "output1 = widgets.Output()"
   ]
  },
  {
   "cell_type": "markdown",
   "metadata": {},
   "source": [
    "# Visione globale (parte senza e parte con calcolatrice)"
   ]
  },
  {
   "cell_type": "code",
   "execution_count": 48,
   "metadata": {},
   "outputs": [],
   "source": [
    "def print_part_box(parte):\n",
    "    if parte==\"A\":\n",
    "        stud_data=punti.iloc[:, :24]\n",
    "        max_pts= df.iloc[0:1,:24]\n",
    "    elif parte ==\"B\":\n",
    "        stud_data=punti.iloc[:, 24:49]\n",
    "        max_pts= df.iloc[0:1,24:49]\n",
    "    else :\n",
    "        return None\n",
    "    \n",
    "    tick=[n for n in range(0,len(max_pts.iloc[0]))] #Crea lista da 0 alla numero di parti nell'esercizio -1 da usare per posizionare le labels\n",
    "    xlabel=[ s + \" (\"+str(end)+\")\" for s,end in zip(stud_data.columns,max_pts.iloc[0])] #Lista delle label del Box Plot con l'aggiunta dei punit massimi dell'esercizio\n",
    "\n",
    "    \n",
    "\n",
    "    fig = px.box(stud_data)\n",
    "    fig.update_layout( xaxis_title=\"Esercizi\",yaxis_title=\"Punti\",title=\"Parte\"+parte)\n",
    "    fig.update_xaxes(\n",
    "        tickangle = -45,\n",
    "        tickvals= tick, \n",
    "        ticktext =xlabel,\n",
    "        )\n",
    "    output1.clear_output()\n",
    "    with output1:\n",
    "        fig.show()\n"
   ]
  },
  {
   "cell_type": "code",
   "execution_count": 50,
   "metadata": {},
   "outputs": [
    {
     "data": {
      "application/vnd.jupyter.widget-view+json": {
       "model_id": "6b18ef036a9e463ba67ef65fbfafc3cc",
       "version_major": 2,
       "version_minor": 0
      },
      "text/plain": [
       "interactive(children=(Dropdown(description='parte', options=('A', 'B'), value='A'), Output()), _dom_classes=('…"
      ]
     },
     "metadata": {},
     "output_type": "display_data"
    },
    {
     "data": {
      "application/vnd.jupyter.widget-view+json": {
       "model_id": "afee3a035fc34aa8aade2da5be0268a1",
       "version_major": 2,
       "version_minor": 0
      },
      "text/plain": [
       "Output(outputs=({'output_type': 'display_data', 'data': {'application/vnd.plotly.v1+json': {'config': {'plotly…"
      ]
     },
     "metadata": {},
     "output_type": "display_data"
    }
   ],
   "source": [
    "print_part_box(\"A\")\n",
    "widgets.interact(print_part_box,parte=['A','B'])\n",
    "display(output1)"
   ]
  },
  {
   "cell_type": "code",
   "execution_count": null,
   "metadata": {},
   "outputs": [],
   "source": [
    "\n"
   ]
  }
 ],
 "metadata": {
  "kernelspec": {
   "display_name": "Python [conda env:work] *",
   "language": "python",
   "name": "conda-env-work-py"
  },
  "language_info": {
   "codemirror_mode": {
    "name": "ipython",
    "version": 3
   },
   "file_extension": ".py",
   "mimetype": "text/x-python",
   "name": "python",
   "nbconvert_exporter": "python",
   "pygments_lexer": "ipython3",
   "version": "3.8.5"
  }
 },
 "nbformat": 4,
 "nbformat_minor": 4
}
